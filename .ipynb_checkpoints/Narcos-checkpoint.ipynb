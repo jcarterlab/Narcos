{
 "cells": [
  {
   "cell_type": "markdown",
   "id": "9cf61eb0-9450-4695-8d09-f4e991b5a346",
   "metadata": {},
   "source": [
    "# Narcos"
   ]
  },
  {
   "cell_type": "markdown",
   "id": "b91698cf-d107-4038-bc5d-ed72dd07cd45",
   "metadata": {},
   "source": [
    "The very mention of South America often evokes violent images of the Netflix series Narcos which reconstructed the violent story Pablo Escobar's rise to power and subsequent empire in Medellin, Colombia. This project seeks to take a look at the data itself, including violent crime, terror risk, attitudes towards women and natural disaster risl, to see how dangerous the region really is compared to the rest of the world."
   ]
  },
  {
   "cell_type": "markdown",
   "id": "c2ad4b36-d9b7-4316-a82f-04e6b3b6a283",
   "metadata": {},
   "source": [
    "## Import libraries"
   ]
  },
  {
   "cell_type": "code",
   "execution_count": 32,
   "id": "13129822-61c8-4b07-9d39-d24b1dfe4ee8",
   "metadata": {},
   "outputs": [],
   "source": [
    "import pandas as pd\n",
    "\n",
    "path = 'C:\\\\Users\\\\Jack-\\\\OneDrive\\\\Desktop\\\\Test\\\\'"
   ]
  },
  {
   "cell_type": "markdown",
   "id": "3d3fe4a0-2ca3-4da9-be85-62c5b7611ddf",
   "metadata": {},
   "source": [
    "## Import data"
   ]
  },
  {
   "cell_type": "markdown",
   "id": "bb725a41-cc20-440e-b169-2a5351dae42d",
   "metadata": {},
   "source": [
    "### Terror Risk"
   ]
  },
  {
   "cell_type": "code",
   "execution_count": 71,
   "id": "6d1b7091-3ac8-4201-a1ed-66fec0eaefca",
   "metadata": {},
   "outputs": [
    {
     "data": {
      "text/html": [
       "<div>\n",
       "<style scoped>\n",
       "    .dataframe tbody tr th:only-of-type {\n",
       "        vertical-align: middle;\n",
       "    }\n",
       "\n",
       "    .dataframe tbody tr th {\n",
       "        vertical-align: top;\n",
       "    }\n",
       "\n",
       "    .dataframe thead th {\n",
       "        text-align: right;\n",
       "    }\n",
       "</style>\n",
       "<table border=\"1\" class=\"dataframe\">\n",
       "  <thead>\n",
       "    <tr style=\"text-align: right;\">\n",
       "      <th></th>\n",
       "      <th>country</th>\n",
       "      <th>terror_risk</th>\n",
       "    </tr>\n",
       "  </thead>\n",
       "  <tbody>\n",
       "    <tr>\n",
       "      <th>0</th>\n",
       "      <td>Aruba</td>\n",
       "      <td>95.378483</td>\n",
       "    </tr>\n",
       "    <tr>\n",
       "      <th>1</th>\n",
       "      <td>Africa Eastern and Southern</td>\n",
       "      <td>NaN</td>\n",
       "    </tr>\n",
       "    <tr>\n",
       "      <th>2</th>\n",
       "      <td>Afghanistan</td>\n",
       "      <td>0.769317</td>\n",
       "    </tr>\n",
       "    <tr>\n",
       "      <th>3</th>\n",
       "      <td>Africa Western and Central</td>\n",
       "      <td>NaN</td>\n",
       "    </tr>\n",
       "    <tr>\n",
       "      <th>4</th>\n",
       "      <td>Angola</td>\n",
       "      <td>28.351302</td>\n",
       "    </tr>\n",
       "    <tr>\n",
       "      <th>5</th>\n",
       "      <td>Albania</td>\n",
       "      <td>54.805706</td>\n",
       "    </tr>\n",
       "  </tbody>\n",
       "</table>\n",
       "</div>"
      ],
      "text/plain": [
       "                       country  terror_risk\n",
       "0                        Aruba    95.378483\n",
       "1  Africa Eastern and Southern          NaN\n",
       "2                  Afghanistan     0.769317\n",
       "3   Africa Western and Central          NaN\n",
       "4                       Angola    28.351302\n",
       "5                      Albania    54.805706"
      ]
     },
     "execution_count": 71,
     "metadata": {},
     "output_type": "execute_result"
    }
   ],
   "source": [
    "# reads in the data. This spreadsheet (political stability/lack of terrorism - World Bank) \n",
    "# would not read in properly so an average was taken from 2015-2022 manually using excel. \n",
    "TR_data = pd.read_csv(path + 'terror risk.csv')\n",
    "\n",
    "# renames columns\n",
    "TR_data.columns = ['country', 'terror_risk']\n",
    "\n",
    "# shows the data\n",
    "TR_data.head(6)"
   ]
  },
  {
   "cell_type": "markdown",
   "id": "77c34a51-2257-4d87-8b01-77ed18b4a6c9",
   "metadata": {},
   "source": [
    "### Gender Violence"
   ]
  },
  {
   "cell_type": "code",
   "execution_count": 61,
   "id": "4c58f015-debe-4873-8f63-b5f8d9f9dd3a",
   "metadata": {},
   "outputs": [
    {
     "data": {
      "text/html": [
       "<div>\n",
       "<style scoped>\n",
       "    .dataframe tbody tr th:only-of-type {\n",
       "        vertical-align: middle;\n",
       "    }\n",
       "\n",
       "    .dataframe tbody tr th {\n",
       "        vertical-align: top;\n",
       "    }\n",
       "\n",
       "    .dataframe thead th {\n",
       "        text-align: right;\n",
       "    }\n",
       "</style>\n",
       "<table border=\"1\" class=\"dataframe\">\n",
       "  <thead>\n",
       "    <tr style=\"text-align: right;\">\n",
       "      <th></th>\n",
       "      <th>country</th>\n",
       "      <th>gender_violence</th>\n",
       "    </tr>\n",
       "  </thead>\n",
       "  <tbody>\n",
       "    <tr>\n",
       "      <th>0</th>\n",
       "      <td>East Asia &amp; Pacific</td>\n",
       "      <td>92.071015</td>\n",
       "    </tr>\n",
       "    <tr>\n",
       "      <th>1</th>\n",
       "      <td>Europe &amp; Central Asia</td>\n",
       "      <td>93.682087</td>\n",
       "    </tr>\n",
       "    <tr>\n",
       "      <th>2</th>\n",
       "      <td>High income</td>\n",
       "      <td>94.398928</td>\n",
       "    </tr>\n",
       "    <tr>\n",
       "      <th>3</th>\n",
       "      <td>Latin America &amp; Caribbean</td>\n",
       "      <td>91.693322</td>\n",
       "    </tr>\n",
       "    <tr>\n",
       "      <th>4</th>\n",
       "      <td>Low income</td>\n",
       "      <td>77.517801</td>\n",
       "    </tr>\n",
       "    <tr>\n",
       "      <th>5</th>\n",
       "      <td>Lower middle income</td>\n",
       "      <td>83.135147</td>\n",
       "    </tr>\n",
       "  </tbody>\n",
       "</table>\n",
       "</div>"
      ],
      "text/plain": [
       "                     country  gender_violence\n",
       "0        East Asia & Pacific        92.071015\n",
       "1      Europe & Central Asia        93.682087\n",
       "2                High income        94.398928\n",
       "3  Latin America & Caribbean        91.693322\n",
       "4                 Low income        77.517801\n",
       "5        Lower middle income        83.135147"
      ]
     },
     "execution_count": 61,
     "metadata": {},
     "output_type": "execute_result"
    }
   ],
   "source": [
    "# reads in the data\n",
    "raw_GV_data = pd.read_csv(path + 'sexual violence in the last 12 months (%).csv')\n",
    "\n",
    "# filters for the most recent year\n",
    "raw_GV_data = raw_GV_data[raw_GV_data['Year']==2018]\n",
    "\n",
    "# removes uneeded columns\n",
    "GV_data = raw_GV_data.iloc[:,[2,5]]\n",
    "\n",
    "# renames columns\n",
    "GV_data.columns = ['country', 'gender_violence']\n",
    "\n",
    "# makes more desirable values higher\n",
    "GV_data.loc[:,'gender_violence'] = 100 - GV_data.loc[:,'gender_violence']\n",
    "\n",
    "# shows the data\n",
    "GV_data.head(6)"
   ]
  },
  {
   "cell_type": "markdown",
   "id": "cd7c9cca-0f14-4140-bb23-3b23089063d9",
   "metadata": {},
   "source": [
    "### Natural Distaster"
   ]
  },
  {
   "cell_type": "code",
   "execution_count": 36,
   "id": "7cfc81c0-8960-4c4c-93ba-9ddc99370683",
   "metadata": {},
   "outputs": [
    {
     "data": {
      "text/html": [
       "<div>\n",
       "<style scoped>\n",
       "    .dataframe tbody tr th:only-of-type {\n",
       "        vertical-align: middle;\n",
       "    }\n",
       "\n",
       "    .dataframe tbody tr th {\n",
       "        vertical-align: top;\n",
       "    }\n",
       "\n",
       "    .dataframe thead th {\n",
       "        text-align: right;\n",
       "    }\n",
       "</style>\n",
       "<table border=\"1\" class=\"dataframe\">\n",
       "  <thead>\n",
       "    <tr style=\"text-align: right;\">\n",
       "      <th></th>\n",
       "      <th>country</th>\n",
       "      <th>natural_distaster</th>\n",
       "    </tr>\n",
       "  </thead>\n",
       "  <tbody>\n",
       "    <tr>\n",
       "      <th>0</th>\n",
       "      <td>Afghanistan</td>\n",
       "      <td>95.98</td>\n",
       "    </tr>\n",
       "    <tr>\n",
       "      <th>1</th>\n",
       "      <td>Albania</td>\n",
       "      <td>93.77</td>\n",
       "    </tr>\n",
       "    <tr>\n",
       "      <th>2</th>\n",
       "      <td>Algeria</td>\n",
       "      <td>90.48</td>\n",
       "    </tr>\n",
       "    <tr>\n",
       "      <th>3</th>\n",
       "      <td>Andorra</td>\n",
       "      <td>99.78</td>\n",
       "    </tr>\n",
       "    <tr>\n",
       "      <th>4</th>\n",
       "      <td>Angola</td>\n",
       "      <td>88.96</td>\n",
       "    </tr>\n",
       "    <tr>\n",
       "      <th>5</th>\n",
       "      <td>Antigua and Barbuda</td>\n",
       "      <td>96.49</td>\n",
       "    </tr>\n",
       "  </tbody>\n",
       "</table>\n",
       "</div>"
      ],
      "text/plain": [
       "               country  natural_distaster\n",
       "0          Afghanistan              95.98\n",
       "1              Albania              93.77\n",
       "2              Algeria              90.48\n",
       "3              Andorra              99.78\n",
       "4               Angola              88.96\n",
       "5  Antigua and Barbuda              96.49"
      ]
     },
     "execution_count": 36,
     "metadata": {},
     "output_type": "execute_result"
    }
   ],
   "source": [
    "# reads in the data\n",
    "raw_ND_data = pd.read_csv(path + 'worldriskindex-2023.csv')\n",
    "raw_ND_data.head(6)\n",
    "\n",
    "# removes uneeded columns\n",
    "ND_data = raw_ND_data.iloc[:,[0,3]]\n",
    "\n",
    "# renames columns\n",
    "ND_data.columns = ['country', 'natural_distaster']\n",
    "\n",
    "# makes more desirable values higher\n",
    "ND_data.loc[:,'natural_distaster'] = 100 - ND_data.loc[:,'natural_distaster']\n",
    "\n",
    "# shows the data\n",
    "ND_data.head(6)"
   ]
  },
  {
   "cell_type": "code",
   "execution_count": null,
   "id": "15212507-5e98-4dcd-be4f-43a6cfd4af71",
   "metadata": {},
   "outputs": [],
   "source": []
  }
 ],
 "metadata": {
  "kernelspec": {
   "display_name": "Python 3 (ipykernel)",
   "language": "python",
   "name": "python3"
  },
  "language_info": {
   "codemirror_mode": {
    "name": "ipython",
    "version": 3
   },
   "file_extension": ".py",
   "mimetype": "text/x-python",
   "name": "python",
   "nbconvert_exporter": "python",
   "pygments_lexer": "ipython3",
   "version": "3.11.7"
  }
 },
 "nbformat": 4,
 "nbformat_minor": 5
}
